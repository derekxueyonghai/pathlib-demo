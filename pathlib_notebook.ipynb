{
  "nbformat": 4,
  "nbformat_minor": 0,
  "metadata": {
    "colab": {
      "provenance": []
    },
    "kernelspec": {
      "name": "python3",
      "display_name": "Python 3"
    },
    "language_info": {
      "name": "python"
    }
  },
  "cells": [
    {
      "cell_type": "code",
      "execution_count": 2,
      "metadata": {
        "colab": {
          "base_uri": "https://localhost:8080/"
        },
        "id": "JUI9_4bg3vvn",
        "outputId": "83cc2d94-aef1-4c6b-a3ee-f91651b0d6b2"
      },
      "outputs": [
        {
          "output_type": "execute_result",
          "data": {
            "text/plain": [
              "['google-download-images', 'pathlib-notebook.ipynb']"
            ]
          },
          "metadata": {},
          "execution_count": 2
        }
      ],
      "source": [
        "import os\n",
        "\n",
        "os.chdir('/content/drive/MyDrive/Colab Notebooks/Pathlib-python')\n",
        "os.listdir()"
      ]
    },
    {
      "cell_type": "markdown",
      "source": [
        "For example, when I start small projects, I create in and out directories as subdirectories under the current working directory (using os.getcwd() ). I use those directories to store the working input and output files. Here’s what that code would look like:"
      ],
      "metadata": {
        "id": "0DTovzln4pSL"
      }
    },
    {
      "cell_type": "code",
      "source": [
        "import os\n",
        "\n",
        "in_dir = os.path.join(os.getcwd(), \"in\")\n",
        "out_dir = os.path.join(os.getcwd(), \"out\")\n",
        "in_file = os.path.join(in_dir, \"input.xlsx\")\n",
        "out_file = os.path.join(out_dir, \"output.xlsx\")\n",
        "\n",
        "display(in_dir, out_dir, in_file, out_file)"
      ],
      "metadata": {
        "colab": {
          "base_uri": "https://localhost:8080/",
          "height": 90
        },
        "id": "rlBvTFkN4cVm",
        "outputId": "a41ee035-92ec-4343-c895-100ddef52187"
      },
      "execution_count": 4,
      "outputs": [
        {
          "output_type": "display_data",
          "data": {
            "text/plain": [
              "'/content/drive/MyDrive/Colab Notebooks/Pathlib-python/in'"
            ],
            "application/vnd.google.colaboratory.intrinsic+json": {
              "type": "string"
            }
          },
          "metadata": {}
        },
        {
          "output_type": "display_data",
          "data": {
            "text/plain": [
              "'/content/drive/MyDrive/Colab Notebooks/Pathlib-python/out'"
            ],
            "application/vnd.google.colaboratory.intrinsic+json": {
              "type": "string"
            }
          },
          "metadata": {}
        },
        {
          "output_type": "display_data",
          "data": {
            "text/plain": [
              "'/content/drive/MyDrive/Colab Notebooks/Pathlib-python/in/input.xlsx'"
            ],
            "application/vnd.google.colaboratory.intrinsic+json": {
              "type": "string"
            }
          },
          "metadata": {}
        },
        {
          "output_type": "display_data",
          "data": {
            "text/plain": [
              "'/content/drive/MyDrive/Colab Notebooks/Pathlib-python/out/output.xlsx'"
            ],
            "application/vnd.google.colaboratory.intrinsic+json": {
              "type": "string"
            }
          },
          "metadata": {}
        }
      ]
    },
    {
      "cell_type": "markdown",
      "source": [
        "Let’s see what it looks like if we use the pathlib module."
      ],
      "metadata": {
        "id": "g84ac6IG5BHF"
      }
    },
    {
      "cell_type": "code",
      "source": [
        "from pathlib import Path\n",
        "\n",
        "in_file_1 = Path.cwd() / \"in\" / \"input.xlsx\"\n",
        "out_file_1 = Path.cwd() / \"out\" / \"output.xlsx\"\n",
        "\n",
        "display(in_file_1, out_file_1)"
      ],
      "metadata": {
        "colab": {
          "base_uri": "https://localhost:8080/",
          "height": 53
        },
        "id": "brElYFfG5Bv_",
        "outputId": "99875b30-59f1-4c4e-8e47-8fec4d17e7b0"
      },
      "execution_count": 5,
      "outputs": [
        {
          "output_type": "display_data",
          "data": {
            "text/plain": [
              "PosixPath('/content/drive/MyDrive/Colab Notebooks/Pathlib-python/in/input.xlsx')"
            ]
          },
          "metadata": {}
        },
        {
          "output_type": "display_data",
          "data": {
            "text/plain": [
              "PosixPath('/content/drive/MyDrive/Colab Notebooks/Pathlib-python/out/output.xlsx')"
            ]
          },
          "metadata": {}
        }
      ]
    },
    {
      "cell_type": "markdown",
      "source": [
        "Additionally, if you don’t like the syntax above, you can chain multiple parts together using joinpath :"
      ],
      "metadata": {
        "id": "zrJpUqWd5YjZ"
      }
    },
    {
      "cell_type": "code",
      "source": [
        "in_file_3 = Path.cwd().joinpath(\"in\").joinpath(\"input.xlsx\")\n",
        "out_file_3 = Path.cwd().joinpath(\"out\").joinpath(\"output.xlsx\")\n",
        "\n",
        "display(in_file_3, out_file_3)"
      ],
      "metadata": {
        "colab": {
          "base_uri": "https://localhost:8080/",
          "height": 53
        },
        "id": "nkL9T-Pl5ZIm",
        "outputId": "2721a39a-6987-4a05-b070-3d8e1cfaf69f"
      },
      "execution_count": 6,
      "outputs": [
        {
          "output_type": "display_data",
          "data": {
            "text/plain": [
              "PosixPath('/content/drive/MyDrive/Colab Notebooks/Pathlib-python/in/input.xlsx')"
            ]
          },
          "metadata": {}
        },
        {
          "output_type": "display_data",
          "data": {
            "text/plain": [
              "PosixPath('/content/drive/MyDrive/Colab Notebooks/Pathlib-python/out/output.xlsx')"
            ]
          },
          "metadata": {}
        }
      ]
    },
    {
      "cell_type": "markdown",
      "source": [
        "Finally, there is one other trick you can use to build up a path with multiple directories:"
      ],
      "metadata": {
        "id": "bErFlRtQ5wPm"
      }
    },
    {
      "cell_type": "code",
      "source": [
        "parts = [\"in\", \"input.xlsx\"]\n",
        "in_file_4 = Path.cwd().joinpath(*parts)\n",
        "\n",
        "display(in_file_4)"
      ],
      "metadata": {
        "colab": {
          "base_uri": "https://localhost:8080/",
          "height": 35
        },
        "id": "CpjT1BJe5w9M",
        "outputId": "0a5dc8e2-1ec9-4155-8878-261ea9e02d27"
      },
      "execution_count": 7,
      "outputs": [
        {
          "output_type": "display_data",
          "data": {
            "text/plain": [
              "PosixPath('/content/drive/MyDrive/Colab Notebooks/Pathlib-python/in/input.xlsx')"
            ]
          },
          "metadata": {}
        }
      ]
    },
    {
      "cell_type": "markdown",
      "source": [
        "The added benefit of these methods is that you are creating a Path object vs. just a string representation of the path. Look at the difference between printing the in_file compared to in_file_1"
      ],
      "metadata": {
        "id": "UKb1Fc9M6Mnd"
      }
    },
    {
      "cell_type": "code",
      "source": [
        "print(type(in_file))\n",
        "print(type(in_file_1))"
      ],
      "metadata": {
        "colab": {
          "base_uri": "https://localhost:8080/"
        },
        "id": "_qtUbdS86Nyv",
        "outputId": "241f6f6e-0136-4fc8-ee77-dc1f4a05a3c8"
      },
      "execution_count": 9,
      "outputs": [
        {
          "output_type": "stream",
          "name": "stdout",
          "text": [
            "<class 'str'>\n",
            "<class 'pathlib.PosixPath'>\n"
          ]
        }
      ]
    },
    {
      "cell_type": "markdown",
      "source": [
        "The fact that the path is an object means we can do a lot of useful actions on the object. It’s also interesting that the path object “knows” it is on a Linux system (aka Posix) and internally represents it that way without the programmer having to tell it. "
      ],
      "metadata": {
        "id": "qFRBSdqs6kwc"
      }
    },
    {
      "cell_type": "markdown",
      "source": [
        "Try the glob usage to remove .png files."
      ],
      "metadata": {
        "id": "0hsA70Xm67PX"
      }
    },
    {
      "cell_type": "code",
      "source": [
        "import glob\n",
        "import pathlib\n",
        "\n",
        "for file in glob.glob('google-download-images/*.svg'):\n",
        "  path = pathlib.Path(file)\n",
        "  path.unlink()\n",
        "  # display(path)"
      ],
      "metadata": {
        "id": "0kgDX8ui7DE0"
      },
      "execution_count": 12,
      "outputs": []
    },
    {
      "cell_type": "markdown",
      "source": [
        "To get the examples started, create the Path to the data_analysis directory:"
      ],
      "metadata": {
        "id": "kttnuDWk8bpW"
      }
    },
    {
      "cell_type": "code",
      "source": [
        "from pathlib import Path\n",
        "\n",
        "dir_to_scan = \"/content/drive/MyDrive/Colab Notebooks/Pathlib-python/google-download-images\"\n",
        "p = Path(dir_to_scan)"
      ],
      "metadata": {
        "id": "wEps82gX8cG0"
      },
      "execution_count": 14,
      "outputs": []
    },
    {
      "cell_type": "code",
      "source": [
        "p.is_dir()"
      ],
      "metadata": {
        "colab": {
          "base_uri": "https://localhost:8080/"
        },
        "id": "q700L7VV8wRq",
        "outputId": "9ca01f05-a10c-4835-f068-1b8293893a11"
      },
      "execution_count": 15,
      "outputs": [
        {
          "output_type": "execute_result",
          "data": {
            "text/plain": [
              "True"
            ]
          },
          "metadata": {},
          "execution_count": 15
        }
      ]
    },
    {
      "cell_type": "code",
      "source": [
        "p.is_file()"
      ],
      "metadata": {
        "colab": {
          "base_uri": "https://localhost:8080/"
        },
        "id": "rdryE0r180WJ",
        "outputId": "f44e3ba5-3143-4bbc-f20a-c157c618afa4"
      },
      "execution_count": 16,
      "outputs": [
        {
          "output_type": "execute_result",
          "data": {
            "text/plain": [
              "False"
            ]
          },
          "metadata": {},
          "execution_count": 16
        }
      ]
    },
    {
      "cell_type": "code",
      "source": [
        "p.parts"
      ],
      "metadata": {
        "colab": {
          "base_uri": "https://localhost:8080/"
        },
        "id": "k18BDkw983Wj",
        "outputId": "e25b4596-9f29-4be6-a5ff-3cd2cec61a1f"
      },
      "execution_count": 17,
      "outputs": [
        {
          "output_type": "execute_result",
          "data": {
            "text/plain": [
              "('/',\n",
              " 'content',\n",
              " 'drive',\n",
              " 'MyDrive',\n",
              " 'Colab Notebooks',\n",
              " 'Pathlib-python',\n",
              " 'google-download-images')"
            ]
          },
          "metadata": {},
          "execution_count": 17
        }
      ]
    },
    {
      "cell_type": "code",
      "source": [
        "p.as_uri()"
      ],
      "metadata": {
        "colab": {
          "base_uri": "https://localhost:8080/",
          "height": 35
        },
        "id": "u_0jRcud89iZ",
        "outputId": "5274955f-09f9-4f94-a2d0-b944e17b2c17"
      },
      "execution_count": 18,
      "outputs": [
        {
          "output_type": "execute_result",
          "data": {
            "text/plain": [
              "'file:///content/drive/MyDrive/Colab%20Notebooks/Pathlib-python/google-download-images'"
            ],
            "application/vnd.google.colaboratory.intrinsic+json": {
              "type": "string"
            }
          },
          "metadata": {},
          "execution_count": 18
        }
      ]
    },
    {
      "cell_type": "code",
      "source": [
        "p.parent"
      ],
      "metadata": {
        "colab": {
          "base_uri": "https://localhost:8080/"
        },
        "id": "w0eo5J9I9El1",
        "outputId": "e8133ede-d86f-438c-d82c-aaf4d3c9d4ee"
      },
      "execution_count": 19,
      "outputs": [
        {
          "output_type": "execute_result",
          "data": {
            "text/plain": [
              "PosixPath('/content/drive/MyDrive/Colab Notebooks/Pathlib-python')"
            ]
          },
          "metadata": {},
          "execution_count": 19
        }
      ]
    },
    {
      "cell_type": "markdown",
      "source": [
        "Walking Directories\n",
        "The first approach I will cover is to use the `os_scandir` function to parse all the files and directories in a given path and build a list of all the directories and all the files."
      ],
      "metadata": {
        "id": "gDuYBobK-dgq"
      }
    },
    {
      "cell_type": "code",
      "source": [
        "folders = []\n",
        "files = []\n",
        "\n",
        "for entry in os.scandir(p):\n",
        "    if entry.is_dir():\n",
        "        folders.append(entry)\n",
        "    elif entry.is_file():\n",
        "        files.append(entry)\n",
        "\n",
        "print(\"Folders - {}\".format(folders))\n",
        "print(\"Files - {}\".format(files))"
      ],
      "metadata": {
        "colab": {
          "base_uri": "https://localhost:8080/"
        },
        "id": "II1SfJU1-Dn3",
        "outputId": "2bb0afd9-f797-4a03-f1bc-1c2bf2fc344c"
      },
      "execution_count": 20,
      "outputs": [
        {
          "output_type": "stream",
          "name": "stdout",
          "text": [
            "Folders - []\n",
            "Files - [<DirEntry 'image2.jpeg'>, <DirEntry 'images3.jpg'>, <DirEntry 'image20.jpeg'>, <DirEntry 'images13.jpg'>, <DirEntry 'image32.jpeg'>, <DirEntry 'image4.jpeg'>, <DirEntry 'images9.jpg'>, <DirEntry 'siberian_husky_cute_puppies.jpg'>, <DirEntry 'images5.jpg'>, <DirEntry 'shelter-dog-cropped-1-632x329.jpg'>, <DirEntry 'labrador-puppy.jpg'>, <DirEntry 'image30.jpeg'>, <DirEntry 'image24.jpeg'>, <DirEntry 'images18.jpg'>, <DirEntry 'image6.jpeg'>, <DirEntry 'image14.jpeg'>, <DirEntry 'images10.jpg'>, <DirEntry 'images15.jpg'>, <DirEntry 'image31.jpeg'>, <DirEntry 'images12.jpg'>, <DirEntry 'WhatsAppImage2020-11-06at10.31.02_1098x1600.jpg'>, <DirEntry 'images17.jpg'>, <DirEntry 'images7.jpg'>, <DirEntry 'image7.jpeg'>, <DirEntry 'image17.jpeg'>, <DirEntry 'image22.jpeg'>, <DirEntry 'image15.jpeg'>, <DirEntry 'image29.jpeg'>, <DirEntry 'image25.jpeg'>, <DirEntry 'image27.jpeg'>, <DirEntry 'image21.jpeg'>, <DirEntry 'images4.jpg'>, <DirEntry 'GettyImages-1290033865.jpg'>, <DirEntry 'image19.jpeg'>, <DirEntry 'when-do-puppies-start-walking.jpg'>, <DirEntry 'image23.jpeg'>, <DirEntry 'images8.jpg'>, <DirEntry 'images16.jpg'>, <DirEntry 'IMG_8706.jpg'>, <DirEntry 'image-60530-800.jpg'>, <DirEntry 'image12.jpeg'>, <DirEntry 'images19.jpg'>, <DirEntry 'shutterstock_1290320698.jpg'>, <DirEntry 'Puppy-Day-compress_4e31bb4d-74a5-4960-af97-9e6bb7756a81.jpg'>, <DirEntry 'image10.jpeg'>, <DirEntry 'original.jpg'>, <DirEntry 'image28.jpeg'>, <DirEntry 'image5.jpeg'>, <DirEntry 'images2.jpg'>, <DirEntry 'image.jpeg'>, <DirEntry 'image18.jpeg'>, <DirEntry 'blog_choosing_a_puppy_main_1024x1024_fbefa7cc-88ac-4bd1-9fe3-936fad9be30d_1024x.jpg'>, <DirEntry 'image16.jpeg'>, <DirEntry 'image11.jpeg'>, <DirEntry 'images14.jpg'>, <DirEntry 'images11.jpg'>, <DirEntry 'image9.jpeg'>, <DirEntry 'when-do-puppies-calm-down.jpg'>, <DirEntry 'image8.jpeg'>, <DirEntry 'image13.jpeg'>, <DirEntry '768x432.jpg'>, <DirEntry 'images.jpg'>, <DirEntry 'image3.jpeg'>, <DirEntry 'images6.jpg'>, <DirEntry 'image26.jpeg'>, <DirEntry 'images33.jpg'>, <DirEntry 'images117.jpg'>, <DirEntry 'images57.jpg'>, <DirEntry 'images161.jpg'>, <DirEntry 'images62.jpg'>, <DirEntry 'images26.jpg'>, <DirEntry 'images24.jpg'>, <DirEntry 'images132.jpg'>, <DirEntry 'images79.jpg'>, <DirEntry 'images73.jpg'>, <DirEntry 'images66.jpg'>, <DirEntry 'ten-reasons-why-you-shouldnt-get-a-puppy.jpg'>, <DirEntry 'images52.jpg'>, <DirEntry 'images129.jpg'>, <DirEntry 'images37.jpg'>, <DirEntry 'images77.jpg'>, <DirEntry 'images108.jpg'>, <DirEntry 'images53.jpg'>, <DirEntry 'popular-puppy-questions-1639736471.jpg'>, <DirEntry 'images122.jpg'>, <DirEntry 'images176.jpg'>, <DirEntry '2fabb777-59dc-4963-a38f-8bd8132c7e10_shutterstock_1048123303_cropped.jpg'>, <DirEntry 'images89.jpg'>, <DirEntry 'images126.jpg'>, <DirEntry 'images72.jpg'>, <DirEntry 'images142.jpg'>, <DirEntry 'images31.jpg'>, <DirEntry 'images125.jpg'>, <DirEntry 'images34.jpg'>, <DirEntry 'images25.jpg'>, <DirEntry '03-june_puppies.jpg'>, <DirEntry 'images58.jpg'>, <DirEntry 'images71.jpg'>, <DirEntry 'images59.jpg'>, <DirEntry 'images105.jpg'>, <DirEntry 'images148.jpg'>, <DirEntry 'images110.jpg'>, <DirEntry 'images54.jpg'>, <DirEntry 'images111.jpg'>, <DirEntry 'images28.jpg'>, <DirEntry 'images39.jpg'>, <DirEntry 'images152.jpg'>, <DirEntry 'images96.jpg'>, <DirEntry 'images168.jpg'>, <DirEntry 'images42.jpg'>, <DirEntry 'images109.jpg'>, <DirEntry 'images106.jpg'>, <DirEntry 'images166.jpg'>, <DirEntry 'images107.jpg'>, <DirEntry 'images173.jpg'>, <DirEntry 'images130.jpg'>, <DirEntry 'images165.jpg'>, <DirEntry 'images23.jpg'>, <DirEntry 'images92.jpg'>, <DirEntry 'images101.jpg'>, <DirEntry 'images95.jpg'>, <DirEntry 'images35.jpg'>, <DirEntry 'dog-puppy-on-garden-royalty-free-image-1586966191.jpg'>, <DirEntry 'images90.jpg'>, <DirEntry 'images49.jpg'>, <DirEntry 'images147.jpg'>, <DirEntry 'images51.jpg'>, <DirEntry 'images20.jpg'>, <DirEntry 'images136.jpg'>, <DirEntry 'images81.jpg'>, <DirEntry 'images69.jpg'>, <DirEntry 'images104.jpg'>, <DirEntry 'images155.jpg'>, <DirEntry 'images112.jpg'>, <DirEntry 'images50.jpg'>, <DirEntry 'images86.jpg'>, <DirEntry 'images174.jpg'>, <DirEntry '96.jpg'>, <DirEntry 'images141.jpg'>, <DirEntry 'images21.jpg'>, <DirEntry 'images134.jpg'>, <DirEntry 'mqdefault.jpg'>, <DirEntry 'images40.jpg'>, <DirEntry 'images154.jpg'>, <DirEntry 'images169.jpg'>, <DirEntry 'images140.jpg'>, <DirEntry '2021-11-24_Singleton_Puppy_Syndrome_One_Puppy_Litter.jpg'>, <DirEntry 'images164.jpg'>, <DirEntry 'images74.jpg'>, <DirEntry 'images45.jpg'>, <DirEntry 'images56.jpg'>, <DirEntry 'images158.jpg'>, <DirEntry 'images121.jpg'>, <DirEntry 'images175.jpg'>, <DirEntry 'images98.jpg'>, <DirEntry 'images27.jpg'>, <DirEntry 'images113.jpg'>, <DirEntry 'images171.jpg'>, <DirEntry 'images85.jpg'>, <DirEntry 'images116.jpg'>, <DirEntry 'images135.jpg'>, <DirEntry 'images38.jpg'>, <DirEntry 'images150.jpg'>, <DirEntry 'images159.jpg'>, <DirEntry 'images127.jpg'>, <DirEntry 'images97.jpg'>, <DirEntry 'pexels-photo-1108099.jpeg'>, <DirEntry 'ScreenShot2020-09-17at2.44.15PM.png'>, <DirEntry 'images163.jpg'>, <DirEntry 'images139.jpg'>, <DirEntry 'images143.jpg'>, <DirEntry 'potty-training-for-puppy-picture-id153505075.jpg'>, <DirEntry 'images149.jpg'>, <DirEntry 'images115.jpg'>, <DirEntry 'images144.jpg'>, <DirEntry 'images63.jpg'>, <DirEntry 'images36.jpg'>, <DirEntry 'images67.jpg'>, <DirEntry 'images82.jpg'>, <DirEntry 'images162.jpg'>, <DirEntry 'images124.jpg'>, <DirEntry 'images44.jpg'>, <DirEntry 'images170.jpg'>, <DirEntry 'images131.jpg'>, <DirEntry 'dog-breeds-that-look-different-1593069055.jpg'>, <DirEntry 'BC-SPCA-rescued-puppies-Agassiz.jpg'>, <DirEntry 'images83.jpg'>, <DirEntry 'images70.jpg'>, <DirEntry '_128002059_threepuppies.jpg'>, <DirEntry 'images102.jpg'>, <DirEntry 'images68.jpg'>, <DirEntry 'images41.jpg'>, <DirEntry 'images100.jpg'>, <DirEntry 'images172.jpg'>, <DirEntry 'images133.jpg'>, <DirEntry 'images78.jpg'>, <DirEntry 'images22.jpg'>, <DirEntry 'images128.jpg'>, <DirEntry 'images137.jpg'>, <DirEntry 'images48.jpg'>, <DirEntry 'images80.jpg'>, <DirEntry 'images46.jpg'>, <DirEntry 'images167.jpg'>, <DirEntry 'images75.jpg'>, <DirEntry 'images30.jpg'>, <DirEntry 'images61.jpg'>, <DirEntry 'images120.jpg'>, <DirEntry 'images177.jpg'>, <DirEntry 'images84.jpg'>, <DirEntry 'images87.jpg'>, <DirEntry 'images43.jpg'>, <DirEntry 'images123.jpg'>, <DirEntry 'images114.jpg'>, <DirEntry 'images99.jpg'>, <DirEntry 'images118.jpg'>, <DirEntry 'images160.jpg'>, <DirEntry 'images138.jpg'>, <DirEntry 'images65.jpg'>, <DirEntry 'images88.jpg'>, <DirEntry 'images145.jpg'>, <DirEntry 'images153.jpg'>, <DirEntry 'images156.jpg'>, <DirEntry 'images119.jpg'>, <DirEntry 'images64.jpg'>, <DirEntry 'images151.jpg'>, <DirEntry 'images93.jpg'>, <DirEntry 'images103.jpg'>, <DirEntry 'images76.jpg'>, <DirEntry 'images146.jpg'>, <DirEntry 'Litterofpuppies.png'>, <DirEntry 'images29.jpg'>, <DirEntry 'images91.jpg'>, <DirEntry 'images55.jpg'>, <DirEntry 'images157.jpg'>, <DirEntry 'images94.jpg'>, <DirEntry 'images60.jpg'>, <DirEntry 'images47.jpg'>, <DirEntry 'images32.jpg'>, <DirEntry 'istock-511313058.jpg'>, <DirEntry 'litter-of-puppies.jpg'>, <DirEntry '0992_01_4x3L.jpg'>, <DirEntry 'blog_no-pet-store-puppies_071620_main.jpg'>, <DirEntry 'puppies-foster-singapore.jpg'>, <DirEntry 'cutest-dog-breeds-header.jpg'>, <DirEntry 'D059BC4A-CCF3-4495-849ABBAFAED10456_source.jpg'>, <DirEntry 'wired-uk-puppyboom.jpg'>, <DirEntry 'puppies-kittens.jpg'>, <DirEntry 'MIJ-L-TAILS-1011.jpg'>, <DirEntry 'two-puppies-in-garden.jpg'>, <DirEntry 'puppy-socialisation.jpg'>, <DirEntry 'GettyImages-1133605325-scaled-e1617227898456.jpg'>, <DirEntry 'what-age-should-you-adopt-a-puppy-1080x675.jpg'>, <DirEntry 'puppy-stages.jpg'>, <DirEntry 'Fotolia_934271_S-800x589.jpg'>, <DirEntry 'Puppiesforsale-banner_990x350.jpg'>, <DirEntry 'puppy-class-3.jpg'>, <DirEntry 'short-coated-tan-puppy-stockpack-unsplash-scaled.jpg'>, <DirEntry 'puppy-running-playing.jpg'>, <DirEntry 'pandemicpuppies-2.jpg'>, <DirEntry 'editor_624ea4627c584-1-1024x523.png'>, <DirEntry 'corgi-300x300-1-300x300.jpg'>, <DirEntry '01-puppy-peak-cuteness-NationalGeographic_2283134.jpg'>, <DirEntry 'Golde33443.jpg'>, <DirEntry 'pbdBG-white.jpg'>, <DirEntry 'MV5BM2NmYmFkMzEtMzg3Yi00MmFjLWI5MTYtNDM3OTA1OTE4OWZjXkEyXkFqcGdeQXVyMjQwMDU3MzM._V1_.jpg'>, <DirEntry 'puppy-care-guide-for-new-parents.jpg'>, <DirEntry 'cutest-dog-breeds-jpg.jpg'>, <DirEntry 'purina-puppy-eat-adult-dog-food_500x300.png'>, <DirEntry 'main_puppies_1280p.jpg'>, <DirEntry 'When-Can-My-Puppy-Go-Outside-1200x900.jpg'>, <DirEntry 'newborn-puppies-bathroom-1.jpg'>, <DirEntry 'e6ebee_f1082c8af0a041cf813a0835dc506aa2mv2.jpg'>, <DirEntry 'elena-mozhvilo-UspYqrVBsIo-unsplash-1-1080x675.jpg'>, <DirEntry 'VIER20PFOTEN_2019-03-15_001-2886x1999-1920x1330.jpg'>, <DirEntry 'D1HRKH-scaled.jpg'>, <DirEntry 'f0f3206a-61f2-4196-a4f0-1b68a514a3c8_1920x1080.jpg'>, <DirEntry 'Galchen-puppies-1.jpg'>, <DirEntry 'benefits-of-getting-a-puppy-900x600.jpg'>, <DirEntry 'puppy-high-five-cropped.jpg'>, <DirEntry 'Pug-potty-2.jpg'>, <DirEntry 'akc-pupill-hdr-new-new.jpg'>, <DirEntry '800px-Keeshond_Sibirian_Husky_crossbreed_puppy.jpg'>, <DirEntry 'happy-beagle-cropped.jpg'>, <DirEntry '28944350_web1_220427-BPD-Puppies-Surrendered_1.jpg'>, <DirEntry 'AAEL6sigLv0H-vxvRlOd-hVrTO3_uQ43OswQ4k2wsji3Ogs64-c-mo.jpg'>, <DirEntry 'traveling-with-puppies.jpg'>, <DirEntry 'group-portrait-adorable-puppies_53876-73977.jpg'>, <DirEntry '4a4c800d5af56e0cd00edc9a86e06ae345-11-puppies.rsquare.w700.jpg'>, <DirEntry 'when-can-puppies-be-around-other-dogs-HERO.jpg'>, <DirEntry 'puppysocializing-1280x650.jpg'>, <DirEntry '04_Adorable-Puppy-Pictures-that-Will-Make-You-Melt_361302206_Grigorita-Ko.jpg'>]\n"
          ]
        }
      ]
    },
    {
      "cell_type": "markdown",
      "source": [
        "If you need to parse through all the subdirectories, then you should use `os_walk` Here is an example that shows all the directories and files within the data_analysis folder."
      ],
      "metadata": {
        "id": "c15s0FWZ-pmU"
      }
    },
    {
      "cell_type": "code",
      "source": [
        "for dirName, subdirList, fileList in os.walk(p):\n",
        "    print('Found directory: %s' % dirName)\n",
        "    for fname in fileList:\n",
        "        print('\\t%s' % fname)"
      ],
      "metadata": {
        "id": "ldFQqdZS-vRJ"
      },
      "execution_count": null,
      "outputs": []
    },
    {
      "cell_type": "markdown",
      "source": [
        "Count the number of files"
      ],
      "metadata": {
        "id": "D7XbIrQb_wFo"
      }
    },
    {
      "cell_type": "code",
      "source": [
        "import os\n",
        "\n",
        "dir_path = r'/content/drive/MyDrive/Colab Notebooks/Pathlib-python/google-download-images'\n",
        "print(len([entry for entry in os.listdir(dir_path)]))"
      ],
      "metadata": {
        "colab": {
          "base_uri": "https://localhost:8080/"
        },
        "id": "1GFQrOgQ_wmi",
        "outputId": "ef3809de-eb3e-4cca-a012-da5b136e3c9b"
      },
      "execution_count": 23,
      "outputs": [
        {
          "output_type": "stream",
          "name": "stdout",
          "text": [
            "291\n"
          ]
        }
      ]
    },
    {
      "cell_type": "markdown",
      "source": [
        "The first approach is to use glob to list all the files in a directory:"
      ],
      "metadata": {
        "id": "FQdmYjHJAozm"
      }
    },
    {
      "cell_type": "code",
      "source": [
        "count = 0\n",
        "for i in p.glob('*.*'):\n",
        "    print(i.name)\n",
        "    count += 1\n",
        "display(count)"
      ],
      "metadata": {
        "id": "bH7XmPrHApKC"
      },
      "execution_count": null,
      "outputs": []
    },
    {
      "cell_type": "markdown",
      "source": [
        "There is another option to use the `rglob` to automatically recurse through the subdirectories. Here is a shortcut to build a list of all of the csv files:"
      ],
      "metadata": {
        "id": "TnagGNLNBE-o"
      }
    },
    {
      "cell_type": "code",
      "source": [
        "list(p.rglob('*.svg'))"
      ],
      "metadata": {
        "colab": {
          "base_uri": "https://localhost:8080/"
        },
        "id": "5-QSRPt3BHt6",
        "outputId": "dc5b931b-99ff-40d6-9577-24b23d0d3d9c"
      },
      "execution_count": 29,
      "outputs": [
        {
          "output_type": "execute_result",
          "data": {
            "text/plain": [
              "[]"
            ]
          },
          "metadata": {},
          "execution_count": 29
        }
      ]
    },
    {
      "cell_type": "markdown",
      "source": [
        "This syntax can also be used to exclude portions of a file. In this case, we can get everything except xlsx extensions:"
      ],
      "metadata": {
        "id": "Vk90jmwhBWlr"
      }
    },
    {
      "cell_type": "code",
      "source": [
        "list(p.rglob('*.[!jpg]'))"
      ],
      "metadata": {
        "colab": {
          "base_uri": "https://localhost:8080/"
        },
        "id": "OFt9B103BYoR",
        "outputId": "7332220e-bc02-42cf-9088-038df3d7fd0b"
      },
      "execution_count": 28,
      "outputs": [
        {
          "output_type": "execute_result",
          "data": {
            "text/plain": [
              "[]"
            ]
          },
          "metadata": {},
          "execution_count": 28
        }
      ]
    },
    {
      "cell_type": "markdown",
      "source": [
        "For this example, I will go through all the files in the data_analysis directory and build a DataFrame with the file name, parent path and modified time. This approach is easily extensible to any other information you might want to include.\n",
        "\n",
        "Here’s the standalone example:"
      ],
      "metadata": {
        "id": "C2M4FbB3PpgJ"
      }
    },
    {
      "cell_type": "code",
      "source": [
        "import pandas as pd\n",
        "from pathlib import Path\n",
        "import time\n",
        "\n",
        "all_files = []\n",
        "for i in p.rglob('*.*'):\n",
        "    all_files.append((i.name, i.parent, time.ctime(i.stat().st_ctime)))\n",
        "\n",
        "columns = [\"File_Name\", \"Parent\", \"Created\"]\n",
        "df = pd.DataFrame.from_records(all_files, columns=columns)\n",
        "\n",
        "df.head()"
      ],
      "metadata": {
        "colab": {
          "base_uri": "https://localhost:8080/",
          "height": 206
        },
        "id": "FAEye35mPt6j",
        "outputId": "e0e705be-e547-4a85-fabe-899bd3f0b1e9"
      },
      "execution_count": 30,
      "outputs": [
        {
          "output_type": "execute_result",
          "data": {
            "text/plain": [
              "      File_Name                                             Parent  \\\n",
              "0   image2.jpeg  /content/drive/MyDrive/Colab Notebooks/Pathlib...   \n",
              "1   images3.jpg  /content/drive/MyDrive/Colab Notebooks/Pathlib...   \n",
              "2  image20.jpeg  /content/drive/MyDrive/Colab Notebooks/Pathlib...   \n",
              "3  images13.jpg  /content/drive/MyDrive/Colab Notebooks/Pathlib...   \n",
              "4  image32.jpeg  /content/drive/MyDrive/Colab Notebooks/Pathlib...   \n",
              "\n",
              "                    Created  \n",
              "0  Mon Feb 27 03:16:13 2023  \n",
              "1  Mon Feb 27 03:15:10 2023  \n",
              "2  Mon Feb 27 03:16:17 2023  \n",
              "3  Mon Feb 27 03:16:13 2023  \n",
              "4  Mon Feb 27 03:14:37 2023  "
            ],
            "text/html": [
              "\n",
              "  <div id=\"df-9a168a91-0890-47c1-9fd8-d5859807a2b2\">\n",
              "    <div class=\"colab-df-container\">\n",
              "      <div>\n",
              "<style scoped>\n",
              "    .dataframe tbody tr th:only-of-type {\n",
              "        vertical-align: middle;\n",
              "    }\n",
              "\n",
              "    .dataframe tbody tr th {\n",
              "        vertical-align: top;\n",
              "    }\n",
              "\n",
              "    .dataframe thead th {\n",
              "        text-align: right;\n",
              "    }\n",
              "</style>\n",
              "<table border=\"1\" class=\"dataframe\">\n",
              "  <thead>\n",
              "    <tr style=\"text-align: right;\">\n",
              "      <th></th>\n",
              "      <th>File_Name</th>\n",
              "      <th>Parent</th>\n",
              "      <th>Created</th>\n",
              "    </tr>\n",
              "  </thead>\n",
              "  <tbody>\n",
              "    <tr>\n",
              "      <th>0</th>\n",
              "      <td>image2.jpeg</td>\n",
              "      <td>/content/drive/MyDrive/Colab Notebooks/Pathlib...</td>\n",
              "      <td>Mon Feb 27 03:16:13 2023</td>\n",
              "    </tr>\n",
              "    <tr>\n",
              "      <th>1</th>\n",
              "      <td>images3.jpg</td>\n",
              "      <td>/content/drive/MyDrive/Colab Notebooks/Pathlib...</td>\n",
              "      <td>Mon Feb 27 03:15:10 2023</td>\n",
              "    </tr>\n",
              "    <tr>\n",
              "      <th>2</th>\n",
              "      <td>image20.jpeg</td>\n",
              "      <td>/content/drive/MyDrive/Colab Notebooks/Pathlib...</td>\n",
              "      <td>Mon Feb 27 03:16:17 2023</td>\n",
              "    </tr>\n",
              "    <tr>\n",
              "      <th>3</th>\n",
              "      <td>images13.jpg</td>\n",
              "      <td>/content/drive/MyDrive/Colab Notebooks/Pathlib...</td>\n",
              "      <td>Mon Feb 27 03:16:13 2023</td>\n",
              "    </tr>\n",
              "    <tr>\n",
              "      <th>4</th>\n",
              "      <td>image32.jpeg</td>\n",
              "      <td>/content/drive/MyDrive/Colab Notebooks/Pathlib...</td>\n",
              "      <td>Mon Feb 27 03:14:37 2023</td>\n",
              "    </tr>\n",
              "  </tbody>\n",
              "</table>\n",
              "</div>\n",
              "      <button class=\"colab-df-convert\" onclick=\"convertToInteractive('df-9a168a91-0890-47c1-9fd8-d5859807a2b2')\"\n",
              "              title=\"Convert this dataframe to an interactive table.\"\n",
              "              style=\"display:none;\">\n",
              "        \n",
              "  <svg xmlns=\"http://www.w3.org/2000/svg\" height=\"24px\"viewBox=\"0 0 24 24\"\n",
              "       width=\"24px\">\n",
              "    <path d=\"M0 0h24v24H0V0z\" fill=\"none\"/>\n",
              "    <path d=\"M18.56 5.44l.94 2.06.94-2.06 2.06-.94-2.06-.94-.94-2.06-.94 2.06-2.06.94zm-11 1L8.5 8.5l.94-2.06 2.06-.94-2.06-.94L8.5 2.5l-.94 2.06-2.06.94zm10 10l.94 2.06.94-2.06 2.06-.94-2.06-.94-.94-2.06-.94 2.06-2.06.94z\"/><path d=\"M17.41 7.96l-1.37-1.37c-.4-.4-.92-.59-1.43-.59-.52 0-1.04.2-1.43.59L10.3 9.45l-7.72 7.72c-.78.78-.78 2.05 0 2.83L4 21.41c.39.39.9.59 1.41.59.51 0 1.02-.2 1.41-.59l7.78-7.78 2.81-2.81c.8-.78.8-2.07 0-2.86zM5.41 20L4 18.59l7.72-7.72 1.47 1.35L5.41 20z\"/>\n",
              "  </svg>\n",
              "      </button>\n",
              "      \n",
              "  <style>\n",
              "    .colab-df-container {\n",
              "      display:flex;\n",
              "      flex-wrap:wrap;\n",
              "      gap: 12px;\n",
              "    }\n",
              "\n",
              "    .colab-df-convert {\n",
              "      background-color: #E8F0FE;\n",
              "      border: none;\n",
              "      border-radius: 50%;\n",
              "      cursor: pointer;\n",
              "      display: none;\n",
              "      fill: #1967D2;\n",
              "      height: 32px;\n",
              "      padding: 0 0 0 0;\n",
              "      width: 32px;\n",
              "    }\n",
              "\n",
              "    .colab-df-convert:hover {\n",
              "      background-color: #E2EBFA;\n",
              "      box-shadow: 0px 1px 2px rgba(60, 64, 67, 0.3), 0px 1px 3px 1px rgba(60, 64, 67, 0.15);\n",
              "      fill: #174EA6;\n",
              "    }\n",
              "\n",
              "    [theme=dark] .colab-df-convert {\n",
              "      background-color: #3B4455;\n",
              "      fill: #D2E3FC;\n",
              "    }\n",
              "\n",
              "    [theme=dark] .colab-df-convert:hover {\n",
              "      background-color: #434B5C;\n",
              "      box-shadow: 0px 1px 3px 1px rgba(0, 0, 0, 0.15);\n",
              "      filter: drop-shadow(0px 1px 2px rgba(0, 0, 0, 0.3));\n",
              "      fill: #FFFFFF;\n",
              "    }\n",
              "  </style>\n",
              "\n",
              "      <script>\n",
              "        const buttonEl =\n",
              "          document.querySelector('#df-9a168a91-0890-47c1-9fd8-d5859807a2b2 button.colab-df-convert');\n",
              "        buttonEl.style.display =\n",
              "          google.colab.kernel.accessAllowed ? 'block' : 'none';\n",
              "\n",
              "        async function convertToInteractive(key) {\n",
              "          const element = document.querySelector('#df-9a168a91-0890-47c1-9fd8-d5859807a2b2');\n",
              "          const dataTable =\n",
              "            await google.colab.kernel.invokeFunction('convertToInteractive',\n",
              "                                                     [key], {});\n",
              "          if (!dataTable) return;\n",
              "\n",
              "          const docLinkHtml = 'Like what you see? Visit the ' +\n",
              "            '<a target=\"_blank\" href=https://colab.research.google.com/notebooks/data_table.ipynb>data table notebook</a>'\n",
              "            + ' to learn more about interactive tables.';\n",
              "          element.innerHTML = '';\n",
              "          dataTable['output_type'] = 'display_data';\n",
              "          await google.colab.output.renderOutput(dataTable, element);\n",
              "          const docLink = document.createElement('div');\n",
              "          docLink.innerHTML = docLinkHtml;\n",
              "          element.appendChild(docLink);\n",
              "        }\n",
              "      </script>\n",
              "    </div>\n",
              "  </div>\n",
              "  "
            ]
          },
          "metadata": {},
          "execution_count": 30
        }
      ]
    },
    {
      "cell_type": "markdown",
      "source": [
        "`pathlib` `stat().st_ctime`  \n",
        "stat.ST_CTIME  \n",
        "The “ctime” as reported by the operating system. On some systems (like Unix) is the time of the last metadata change, and, on others (like Windows), is the creation time (see platform documentation for details)."
      ],
      "metadata": {
        "id": "aOeFpXR2S2ZH"
      }
    },
    {
      "cell_type": "markdown",
      "source": [
        "use `datetime.datetime.fromtimestamp`, i.e."
      ],
      "metadata": {
        "id": "rgB2RWfiTsYj"
      }
    },
    {
      "cell_type": "code",
      "source": [
        "from datetime import datetime, timezone\n",
        "\n",
        "stat_result = p.stat()\n",
        "modified = datetime.fromtimestamp(stat_result.st_mtime, tz=timezone.utc)\n",
        "print('modified', modified)"
      ],
      "metadata": {
        "colab": {
          "base_uri": "https://localhost:8080/"
        },
        "id": "sF1hii_ETndE",
        "outputId": "9a609b7b-2a08-42cd-e52b-92c896471bb1"
      },
      "execution_count": 31,
      "outputs": [
        {
          "output_type": "stream",
          "name": "stdout",
          "text": [
            "modified 2023-02-27 03:33:19+00:00\n"
          ]
        }
      ]
    },
    {
      "cell_type": "markdown",
      "source": [
        "This works for me if you want a readable string:"
      ],
      "metadata": {
        "id": "eFLt0HfmUJ6S"
      }
    },
    {
      "cell_type": "code",
      "source": [
        "import datetime\n",
        "mtime = p.stat().st_mtime\n",
        "timestamp_str = datetime.datetime.fromtimestamp(mtime).strftime('%Y-%m-%d %H:%M')\n",
        "\n",
        "print(timestamp_str)"
      ],
      "metadata": {
        "colab": {
          "base_uri": "https://localhost:8080/"
        },
        "id": "7yJmDhQCUKl_",
        "outputId": "db7d091e-1ecb-424e-b694-536d51f8d2df"
      },
      "execution_count": 34,
      "outputs": [
        {
          "output_type": "stream",
          "name": "stdout",
          "text": [
            "2023-02-27 03:33\n"
          ]
        }
      ]
    }
  ]
}